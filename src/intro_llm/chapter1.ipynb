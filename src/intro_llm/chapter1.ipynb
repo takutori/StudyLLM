{
 "cells": [
  {
   "cell_type": "code",
   "execution_count": null,
   "metadata": {},
   "outputs": [],
   "source": []
  },
  {
   "cell_type": "markdown",
   "metadata": {},
   "source": [
    "# 第一章 はじめに"
   ]
  },
  {
   "cell_type": "code",
   "execution_count": 1,
   "metadata": {},
   "outputs": [
    {
     "name": "stderr",
     "output_type": "stream",
     "text": [
      "/Users/t.taniguchi/Library/Caches/pypoetry/virtualenvs/study-lmm-wQFh0UWk-py3.10/lib/python3.10/site-packages/tqdm/auto.py:21: TqdmWarning: IProgress not found. Please update jupyter and ipywidgets. See https://ipywidgets.readthedocs.io/en/stable/user_install.html\n",
      "  from .autonotebook import tqdm as notebook_tqdm\n"
     ]
    }
   ],
   "source": [
    "from transformers import pipeline"
   ]
  },
  {
   "cell_type": "code",
   "execution_count": 2,
   "metadata": {},
   "outputs": [
    {
     "name": "stderr",
     "output_type": "stream",
     "text": [
      "Device set to use cpu\n"
     ]
    },
    {
     "name": "stdout",
     "output_type": "stream",
     "text": [
      "{'label': 'positive', 'score': 0.9993619322776794}\n"
     ]
    }
   ],
   "source": [
    "# テキストがポジティブかネガティブか判定する\n",
    "# bert-base-japanese-v3-marc_jaは\n",
    "text_classification_pipeline = pipeline(\n",
    "    model=\"llm-book/bert-base-japanese-v3-marc_ja\"\n",
    "    )\n",
    "\n",
    "positive_text = \"世界には言葉がわからなくても感動する音楽がある。\"\n",
    "# positive_textの極性を予測\n",
    "print(text_classification_pipeline(positive_text)[0])\n"
   ]
  },
  {
   "cell_type": "code",
   "execution_count": 3,
   "metadata": {},
   "outputs": [
    {
     "name": "stdout",
     "output_type": "stream",
     "text": [
      "{'label': 'negative', 'score': 0.9636250734329224}\n"
     ]
    }
   ],
   "source": [
    "#negative_textの極性を予測\n",
    "negative_text = \"世界には言葉がでないほどひどい音楽がある。\"\n",
    "print(text_classification_pipeline(negative_text)[0])"
   ]
  },
  {
   "cell_type": "code",
   "execution_count": 4,
   "metadata": {},
   "outputs": [
    {
     "name": "stderr",
     "output_type": "stream",
     "text": [
      "Device set to use cpu\n"
     ]
    },
    {
     "name": "stdout",
     "output_type": "stream",
     "text": [
      "{'label': 'entailment', 'score': 0.9964311122894287}\n"
     ]
    }
   ],
   "source": [
    "# 言語モデルの意味理解能力を評価する\n",
    "nli_pipeline = pipeline(model=\"llm-book/bert-base-japanese-v3-jnli\")\n",
    "text = \"二人の男性がジェット機を見ています\"\n",
    "entailment_text = \"ジェット機を見ている人が二人います\"\n",
    "\n",
    "# textとentailment_textの論理関係を予測\n",
    "print(nli_pipeline({\"text\": text, \"text_pair\": entailment_text}))"
   ]
  },
  {
   "cell_type": "code",
   "execution_count": 5,
   "metadata": {},
   "outputs": [
    {
     "name": "stdout",
     "output_type": "stream",
     "text": [
      "{'label': 'contradiction', 'score': 0.9990535378456116}\n"
     ]
    }
   ],
   "source": [
    "contradiction_text = \"二人の男性が飛んでいます\"\n",
    "# textとcontradiction_textの論理関係を予測\n",
    "print(nli_pipeline({\"text\": text, \"text_pair\": contradiction_text}))"
   ]
  },
  {
   "cell_type": "markdown",
   "metadata": {},
   "source": [
    "- entailmentは含意を意味する\n",
    "- contradictionは矛盾を意味する\n",
    "- neutralは中立を意味する"
   ]
  },
  {
   "cell_type": "markdown",
   "metadata": {},
   "source": [
    "「ジェット機を見ている人が二人います」と「二人の男性が飛んでいます」が矛盾？？？"
   ]
  },
  {
   "cell_type": "code",
   "execution_count": 6,
   "metadata": {},
   "outputs": [
    {
     "name": "stderr",
     "output_type": "stream",
     "text": [
      "Device set to use cpu\n"
     ]
    },
    {
     "name": "stdout",
     "output_type": "stream",
     "text": [
      "3.5703563690185547\n"
     ]
    }
   ],
   "source": [
    "# 意味的類似度計算\n",
    "text_sim_pipeline = pipeline(\n",
    "    model=\"llm-book/bert-base-japanese-v3-jsts\",\n",
    "    function_to_apply=\"none\",\n",
    ")\n",
    "text = \"川べりでサーフボードを持った人たちがいます\"\n",
    "sim_text = \"サーファーたちが川べりに立っています\"\n",
    "# textとsim_textの類似度を計算\n",
    "result = text_sim_pipeline({\"text\": text, \"text_pair\": sim_text})\n",
    "print(result[\"score\"])"
   ]
  },
  {
   "cell_type": "code",
   "execution_count": 7,
   "metadata": {},
   "outputs": [
    {
     "name": "stdout",
     "output_type": "stream",
     "text": [
      "0.04162174463272095\n"
     ]
    }
   ],
   "source": [
    "dissim_text = \"トイレの壁に黒いタオルがかけられています\"\n",
    "# textとdissim_textの類似度を計算\n",
    "result = text_sim_pipeline({\"text\": text, \"text_pair\": dissim_text})\n",
    "print(result[\"score\"])"
   ]
  },
  {
   "cell_type": "code",
   "execution_count": 8,
   "metadata": {},
   "outputs": [
    {
     "name": "stderr",
     "output_type": "stream",
     "text": [
      "Device set to use cpu\n"
     ]
    },
    {
     "name": "stdout",
     "output_type": "stream",
     "text": [
      "0.8568588495254517\n"
     ]
    }
   ],
   "source": [
    "from torch.nn.functional import cosine_similarity\n",
    "\n",
    "sim_enc_pipeline = pipeline(\n",
    "    model=\"llm-book/bert-base-japanese-v3-unsup-simcse-jawiki\",\n",
    "    task=\"feature-extraction\",\n",
    ")\n",
    "\n",
    "# textとsim_textのベクトルを獲得\n",
    "text_emb = sim_enc_pipeline(text, return_tensors=True)[0][0]\n",
    "sim_emb = sim_enc_pipeline(sim_text, return_tensors=True)[0][0]\n",
    "# textとsim_textの類似度を計算\n",
    "sim_pair_score = cosine_similarity(text_emb, sim_emb, dim=0)\n",
    "print(sim_pair_score.item())"
   ]
  },
  {
   "cell_type": "code",
   "execution_count": 9,
   "metadata": {},
   "outputs": [
    {
     "name": "stdout",
     "output_type": "stream",
     "text": [
      "0.4588705003261566\n"
     ]
    }
   ],
   "source": [
    "# dissim_textのベクトルを獲得\n",
    "dissim_emb = sim_enc_pipeline(dissim_text, return_tensors=True)[0][0]\n",
    "# textとdissim_textの類似度を計算\n",
    "dissim_pair_score = cosine_similarity(text_emb, dissim_emb, dim=0)\n",
    "print(dissim_pair_score.item())"
   ]
  },
  {
   "cell_type": "code",
   "execution_count": 10,
   "metadata": {},
   "outputs": [
    {
     "name": "stderr",
     "output_type": "stream",
     "text": [
      "Device set to use cpu\n"
     ]
    },
    {
     "name": "stdout",
     "output_type": "stream",
     "text": [
      "[{'end': None,\n",
      "  'entity_group': '人名',\n",
      "  'score': np.float32(0.99823624),\n",
      "  'start': None,\n",
      "  'word': '大谷 翔平'},\n",
      " {'end': None,\n",
      "  'entity_group': '地名',\n",
      "  'score': np.float32(0.9986874),\n",
      "  'start': None,\n",
      "  'word': '岩手 県 水沢 市'}]\n"
     ]
    }
   ],
   "source": [
    "from pprint import pprint\n",
    "\n",
    "ner_pipeline = pipeline(\n",
    "    model=\"llm-book/bert-base-japanese-v3-ner-wikipedia-dataset\",\n",
    "    aggregation_strategy=\"simple\",\n",
    ")\n",
    "text = \"大谷翔平は岩手県水沢市出身のプロ野球選手\"\n",
    "# text中の固有表現を抽出\n",
    "pprint(ner_pipeline(text))"
   ]
  },
  {
   "cell_type": "code",
   "execution_count": 11,
   "metadata": {},
   "outputs": [
    {
     "name": "stderr",
     "output_type": "stream",
     "text": [
      "Device set to use cpu\n"
     ]
    },
    {
     "name": "stdout",
     "output_type": "stream",
     "text": [
      "今夜はNHKスペシャル「世界を変えた男 スティーブ・ジョブズ」をチェック!\n"
     ]
    }
   ],
   "source": [
    "text2text_pipeline = pipeline(\n",
    "    model=\"llm-book/t5-base-long-livedoor-news-corpus\"\n",
    ")\n",
    "article = \"ついに始まった３連休。テレビを見ながら過ごしている人も多いのではないだろうか？　今夜オススメなのは何と言っても、NHKスペシャル「世界を変えた男 スティーブ・ジョブズ」だ。実は知らない人も多いジョブズ氏の養子に出された生い立ちや、アップル社から一時追放されるなどの経験。そして、彼が追い求めた理想の未来とはなんだったのか、ファンならずとも気になる内容になっている。 今年、亡くなったジョブズ氏の伝記は日本でもベストセラーになっている。今後もアップル製品だけでなく、世界でのジョブズ氏の影響は大きいだろうと想像される。ジョブズ氏のことをあまり知らないという人もこの機会にぜひチェックしてみよう。 世界を変えた男　スティーブ・ジョブズ（NHKスペシャル）\"\n",
    "# articleの要約を生成\n",
    "print(text2text_pipeline(article)[0][\"generated_text\"])"
   ]
  },
  {
   "cell_type": "code",
   "execution_count": null,
   "metadata": {},
   "outputs": [],
   "source": []
  },
  {
   "cell_type": "code",
   "execution_count": null,
   "metadata": {},
   "outputs": [],
   "source": []
  },
  {
   "cell_type": "code",
   "execution_count": null,
   "metadata": {},
   "outputs": [],
   "source": []
  },
  {
   "cell_type": "code",
   "execution_count": null,
   "metadata": {},
   "outputs": [],
   "source": []
  },
  {
   "cell_type": "code",
   "execution_count": null,
   "metadata": {},
   "outputs": [],
   "source": []
  },
  {
   "cell_type": "code",
   "execution_count": null,
   "metadata": {},
   "outputs": [],
   "source": []
  }
 ],
 "metadata": {
  "kernelspec": {
   "display_name": "study-lmm-wQFh0UWk-py3.10",
   "language": "python",
   "name": "python3"
  },
  "language_info": {
   "codemirror_mode": {
    "name": "ipython",
    "version": 3
   },
   "file_extension": ".py",
   "mimetype": "text/x-python",
   "name": "python",
   "nbconvert_exporter": "python",
   "pygments_lexer": "ipython3",
   "version": "3.10.16"
  }
 },
 "nbformat": 4,
 "nbformat_minor": 2
}
